{
 "cells": [
  {
   "cell_type": "markdown",
   "id": "536322c3",
   "metadata": {},
   "source": [
    "## While Loop"
   ]
  },
  {
   "cell_type": "code",
   "execution_count": null,
   "id": "0d9fc70b",
   "metadata": {},
   "outputs": [],
   "source": [
    "i = 1"
   ]
  },
  {
   "cell_type": "code",
   "execution_count": 3,
   "id": "4997b3d3",
   "metadata": {},
   "outputs": [
    {
     "name": "stdout",
     "output_type": "stream",
     "text": [
      "1\n",
      "2\n",
      "3\n",
      "4\n",
      "5\n",
      "6\n",
      "7\n",
      "8\n",
      "9\n"
     ]
    }
   ],
   "source": [
    "while i<10:\n",
    "    print(i)\n",
    "    i += 1"
   ]
  },
  {
   "cell_type": "markdown",
   "id": "9567419c",
   "metadata": {},
   "source": [
    "## For Loop"
   ]
  },
  {
   "cell_type": "code",
   "execution_count": 5,
   "id": "8610f6e1",
   "metadata": {},
   "outputs": [],
   "source": [
    "l1 = ['Red', 'Black','White','Pink','Green']"
   ]
  },
  {
   "cell_type": "code",
   "execution_count": 17,
   "id": "b373874d",
   "metadata": {},
   "outputs": [
    {
     "name": "stdout",
     "output_type": "stream",
     "text": [
      "Shirts\n",
      "Shirts\n",
      "Shirts\n",
      "Shirts\n"
     ]
    }
   ],
   "source": [
    "for j in l1:\n",
    "        print(j)"
   ]
  },
  {
   "cell_type": "code",
   "execution_count": 19,
   "id": "4f571ef3",
   "metadata": {},
   "outputs": [],
   "source": [
    "l2 = ['Shirts','Shirts','Shirts','Shirts']"
   ]
  },
  {
   "cell_type": "code",
   "execution_count": 20,
   "id": "81c09d80",
   "metadata": {},
   "outputs": [
    {
     "name": "stdout",
     "output_type": "stream",
     "text": [
      "Shirts\n",
      "Shirts\n",
      "Shirts\n",
      "Shirts\n"
     ]
    }
   ],
   "source": [
    "for i in l2:\n",
    "        print(i)"
   ]
  },
  {
   "cell_type": "code",
   "execution_count": 21,
   "id": "9c9ee7eb",
   "metadata": {},
   "outputs": [
    {
     "name": "stdout",
     "output_type": "stream",
     "text": [
      "2  *  1  =  2\n",
      "2  *  2  =  4\n",
      "2  *  3  =  6\n",
      "2  *  4  =  8\n",
      "2  *  5  =  10\n",
      "2  *  6  =  12\n",
      "2  *  7  =  14\n",
      "2  *  8  =  16\n",
      "2  *  9  =  18\n",
      "2  *  10  =  20\n"
     ]
    }
   ],
   "source": [
    "i=1\n",
    "n=2\n",
    "while i<=10:\n",
    "    print(n,\" * \", i, \" = \",n*i)\n",
    "    i=i+1"
   ]
  },
  {
   "cell_type": "code",
   "execution_count": 22,
   "id": "89252f61",
   "metadata": {},
   "outputs": [],
   "source": [
    "color=[\"blue\",\"green\",\"yellow\"]\n",
    "item=[\"book\",\"ball\",\"chair\"]"
   ]
  },
  {
   "cell_type": "code",
   "execution_count": 23,
   "id": "be3e629f",
   "metadata": {},
   "outputs": [
    {
     "name": "stdout",
     "output_type": "stream",
     "text": [
      "blue book\n",
      "blue ball\n",
      "blue chair\n",
      "green book\n",
      "green ball\n",
      "green chair\n",
      "yellow book\n",
      "yellow ball\n",
      "yellow chair\n"
     ]
    }
   ],
   "source": [
    "for i in color:\n",
    "    for j in item:\n",
    "        print(i,j)"
   ]
  },
  {
   "cell_type": "code",
   "execution_count": null,
   "id": "a2491c23",
   "metadata": {},
   "outputs": [],
   "source": []
  }
 ],
 "metadata": {
  "kernelspec": {
   "display_name": "Python 3 (ipykernel)",
   "language": "python",
   "name": "python3"
  },
  "language_info": {
   "codemirror_mode": {
    "name": "ipython",
    "version": 3
   },
   "file_extension": ".py",
   "mimetype": "text/x-python",
   "name": "python",
   "nbconvert_exporter": "python",
   "pygments_lexer": "ipython3",
   "version": "3.9.13"
  }
 },
 "nbformat": 4,
 "nbformat_minor": 5
}
