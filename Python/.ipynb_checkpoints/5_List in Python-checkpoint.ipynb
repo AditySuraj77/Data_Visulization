{
 "cells": [
  {
   "cell_type": "code",
   "execution_count": 1,
   "id": "397fa552",
   "metadata": {},
   "outputs": [
    {
     "data": {
      "text/plain": [
       "[1, 'Hello World', 56.6, True, (3+6j)]"
      ]
     },
     "execution_count": 1,
     "metadata": {},
     "output_type": "execute_result"
    }
   ],
   "source": [
    "l1 = [1,\"Hello World\", 56.6, True, (3+6j)]\n",
    "l1"
   ]
  },
  {
   "cell_type": "code",
   "execution_count": 2,
   "id": "a978f3e1",
   "metadata": {},
   "outputs": [
    {
     "data": {
      "text/plain": [
       "list"
      ]
     },
     "execution_count": 2,
     "metadata": {},
     "output_type": "execute_result"
    }
   ],
   "source": [
    "type(l1)"
   ]
  },
  {
   "cell_type": "markdown",
   "id": "70d17cd1",
   "metadata": {},
   "source": [
    "## Indexing"
   ]
  },
  {
   "cell_type": "code",
   "execution_count": 4,
   "id": "d01f0526",
   "metadata": {},
   "outputs": [
    {
     "data": {
      "text/plain": [
       "1"
      ]
     },
     "execution_count": 4,
     "metadata": {},
     "output_type": "execute_result"
    }
   ],
   "source": [
    "l1[0]"
   ]
  },
  {
   "cell_type": "code",
   "execution_count": 5,
   "id": "112daa60",
   "metadata": {},
   "outputs": [
    {
     "data": {
      "text/plain": [
       "'Hello World'"
      ]
     },
     "execution_count": 5,
     "metadata": {},
     "output_type": "execute_result"
    }
   ],
   "source": [
    "l1[1]"
   ]
  },
  {
   "cell_type": "code",
   "execution_count": 6,
   "id": "34e6a5da",
   "metadata": {},
   "outputs": [
    {
     "data": {
      "text/plain": [
       "(3+6j)"
      ]
     },
     "execution_count": 6,
     "metadata": {},
     "output_type": "execute_result"
    }
   ],
   "source": [
    "l1[-1]"
   ]
  },
  {
   "cell_type": "code",
   "execution_count": 7,
   "id": "4dcb65e8",
   "metadata": {},
   "outputs": [
    {
     "data": {
      "text/plain": [
       "True"
      ]
     },
     "execution_count": 7,
     "metadata": {},
     "output_type": "execute_result"
    }
   ],
   "source": [
    "l1[-2]"
   ]
  },
  {
   "cell_type": "code",
   "execution_count": 10,
   "id": "dafebfa9",
   "metadata": {},
   "outputs": [
    {
     "data": {
      "text/plain": [
       "[1, 'Hello World', 56.6]"
      ]
     },
     "execution_count": 10,
     "metadata": {},
     "output_type": "execute_result"
    }
   ],
   "source": [
    "l1[0:3]"
   ]
  },
  {
   "cell_type": "markdown",
   "id": "a3f9e092",
   "metadata": {},
   "source": [
    "## Function In list"
   ]
  },
  {
   "cell_type": "code",
   "execution_count": 20,
   "id": "50f7c45f",
   "metadata": {},
   "outputs": [],
   "source": [
    "l2 = [1,2,3,\"Hello\", \"World\", \"C++\", 5.56, True, (4+9j) ]\n"
   ]
  },
  {
   "cell_type": "code",
   "execution_count": 22,
   "id": "00cdceed",
   "metadata": {},
   "outputs": [],
   "source": [
    "l2[5] = \"Python\""
   ]
  },
  {
   "cell_type": "code",
   "execution_count": 23,
   "id": "dcd19c6e",
   "metadata": {},
   "outputs": [
    {
     "data": {
      "text/plain": [
       "[1, 2, 3, 'Hello', 'World', 'Python', 5.56, True, (4+9j)]"
      ]
     },
     "execution_count": 23,
     "metadata": {},
     "output_type": "execute_result"
    }
   ],
   "source": [
    "l2"
   ]
  },
  {
   "cell_type": "code",
   "execution_count": 24,
   "id": "fa3c668b",
   "metadata": {},
   "outputs": [
    {
     "data": {
      "text/plain": [
       "(4+9j)"
      ]
     },
     "execution_count": 24,
     "metadata": {},
     "output_type": "execute_result"
    }
   ],
   "source": [
    "l2.pop()\n"
   ]
  },
  {
   "cell_type": "code",
   "execution_count": 25,
   "id": "e5aa5364",
   "metadata": {},
   "outputs": [
    {
     "data": {
      "text/plain": [
       "[1, 2, 3, 'Hello', 'World', 'Python', 5.56, True]"
      ]
     },
     "execution_count": 25,
     "metadata": {},
     "output_type": "execute_result"
    }
   ],
   "source": [
    "l2"
   ]
  },
  {
   "cell_type": "code",
   "execution_count": 26,
   "id": "c6052416",
   "metadata": {},
   "outputs": [],
   "source": [
    "l2.append('Complex Number')"
   ]
  },
  {
   "cell_type": "code",
   "execution_count": 27,
   "id": "f2b42d49",
   "metadata": {},
   "outputs": [
    {
     "data": {
      "text/plain": [
       "[1, 2, 3, 'Hello', 'World', 'Python', 5.56, True, 'Complex Number']"
      ]
     },
     "execution_count": 27,
     "metadata": {},
     "output_type": "execute_result"
    }
   ],
   "source": [
    "l2"
   ]
  },
  {
   "cell_type": "code",
   "execution_count": 28,
   "id": "4068baa5",
   "metadata": {},
   "outputs": [],
   "source": [
    "l2.reverse()"
   ]
  },
  {
   "cell_type": "code",
   "execution_count": 29,
   "id": "3a0fd6e2",
   "metadata": {},
   "outputs": [
    {
     "data": {
      "text/plain": [
       "['Complex Number', True, 5.56, 'Python', 'World', 'Hello', 3, 2, 1]"
      ]
     },
     "execution_count": 29,
     "metadata": {},
     "output_type": "execute_result"
    }
   ],
   "source": [
    "l2"
   ]
  },
  {
   "cell_type": "code",
   "execution_count": 38,
   "id": "a8985d2a",
   "metadata": {},
   "outputs": [],
   "source": [
    "l3 = ['apple', 'mango', 'banana', 'cherry', 'grapes']"
   ]
  },
  {
   "cell_type": "code",
   "execution_count": 39,
   "id": "93c52a60",
   "metadata": {},
   "outputs": [
    {
     "data": {
      "text/plain": [
       "['apple', 'banana', 'cherry', 'grapes', 'mango']"
      ]
     },
     "execution_count": 39,
     "metadata": {},
     "output_type": "execute_result"
    }
   ],
   "source": [
    "l3.sort()\n",
    "l3"
   ]
  },
  {
   "cell_type": "code",
   "execution_count": 43,
   "id": "b371c117",
   "metadata": {},
   "outputs": [],
   "source": [
    "l2.insert(0, 'First list')"
   ]
  },
  {
   "cell_type": "code",
   "execution_count": 44,
   "id": "a32d726b",
   "metadata": {},
   "outputs": [
    {
     "data": {
      "text/plain": [
       "['First list',\n",
       " 'Complex Number',\n",
       " 'First list',\n",
       " True,\n",
       " 5.56,\n",
       " 'Python',\n",
       " 'World',\n",
       " 'Hello',\n",
       " 3,\n",
       " 2,\n",
       " 1]"
      ]
     },
     "execution_count": 44,
     "metadata": {},
     "output_type": "execute_result"
    }
   ],
   "source": [
    "l2"
   ]
  },
  {
   "cell_type": "code",
   "execution_count": 45,
   "id": "94e5292d",
   "metadata": {},
   "outputs": [],
   "source": [
    "la = [2,4,6,8,10]"
   ]
  },
  {
   "cell_type": "code",
   "execution_count": 46,
   "id": "f5611025",
   "metadata": {},
   "outputs": [],
   "source": [
    "lb = [12,14,16,18,20]"
   ]
  },
  {
   "cell_type": "code",
   "execution_count": 48,
   "id": "2957638a",
   "metadata": {},
   "outputs": [
    {
     "data": {
      "text/plain": [
       "[2, 4, 6, 8, 10, 12, 14, 16, 18, 20]"
      ]
     },
     "execution_count": 48,
     "metadata": {},
     "output_type": "execute_result"
    }
   ],
   "source": [
    "la+lb"
   ]
  },
  {
   "cell_type": "code",
   "execution_count": 49,
   "id": "5afd2c90",
   "metadata": {},
   "outputs": [
    {
     "data": {
      "text/plain": [
       "[1,\n",
       " 'List',\n",
       " 56.6,\n",
       " True,\n",
       " (3+6j),\n",
       " 1,\n",
       " 'List',\n",
       " 56.6,\n",
       " True,\n",
       " (3+6j),\n",
       " 1,\n",
       " 'List',\n",
       " 56.6,\n",
       " True,\n",
       " (3+6j),\n",
       " 1,\n",
       " 'List',\n",
       " 56.6,\n",
       " True,\n",
       " (3+6j),\n",
       " 1,\n",
       " 'List',\n",
       " 56.6,\n",
       " True,\n",
       " (3+6j)]"
      ]
     },
     "execution_count": 49,
     "metadata": {},
     "output_type": "execute_result"
    }
   ],
   "source": [
    "l1*5"
   ]
  },
  {
   "cell_type": "code",
   "execution_count": null,
   "id": "2823d4ab",
   "metadata": {},
   "outputs": [],
   "source": []
  }
 ],
 "metadata": {
  "kernelspec": {
   "display_name": "Python 3 (ipykernel)",
   "language": "python",
   "name": "python3"
  },
  "language_info": {
   "codemirror_mode": {
    "name": "ipython",
    "version": 3
   },
   "file_extension": ".py",
   "mimetype": "text/x-python",
   "name": "python",
   "nbconvert_exporter": "python",
   "pygments_lexer": "ipython3",
   "version": "3.9.13"
  }
 },
 "nbformat": 4,
 "nbformat_minor": 5
}
