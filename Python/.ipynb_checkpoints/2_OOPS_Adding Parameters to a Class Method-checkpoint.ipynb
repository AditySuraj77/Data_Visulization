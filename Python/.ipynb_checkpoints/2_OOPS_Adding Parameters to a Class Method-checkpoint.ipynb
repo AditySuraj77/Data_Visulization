{
 "cells": [
  {
   "cell_type": "code",
   "execution_count": 11,
   "id": "015e8d9c",
   "metadata": {},
   "outputs": [],
   "source": [
    "class Phone:\n",
    "    def set_color(self, color):\n",
    "          self.color = color\n",
    "        \n",
    "    def set_cost(self,cost):\n",
    "        self.cost = cost\n",
    "    \n",
    "    def show_color(self):\n",
    "        return self.color\n",
    "    \n",
    "    def show_cost(self):\n",
    "        return self.cost\n",
    "    \n",
    "    "
   ]
  },
  {
   "cell_type": "code",
   "execution_count": 12,
   "id": "e606a7f8",
   "metadata": {},
   "outputs": [],
   "source": [
    "p2 = Phone()"
   ]
  },
  {
   "cell_type": "code",
   "execution_count": 13,
   "id": "aafd0ff3",
   "metadata": {},
   "outputs": [],
   "source": [
    "p2.set_color('White')"
   ]
  },
  {
   "cell_type": "code",
   "execution_count": 14,
   "id": "89324cef",
   "metadata": {},
   "outputs": [],
   "source": [
    "p2.set_cost(5000)"
   ]
  },
  {
   "cell_type": "code",
   "execution_count": 15,
   "id": "d3211903",
   "metadata": {},
   "outputs": [
    {
     "data": {
      "text/plain": [
       "'White'"
      ]
     },
     "execution_count": 15,
     "metadata": {},
     "output_type": "execute_result"
    }
   ],
   "source": [
    "p2.show_color()"
   ]
  },
  {
   "cell_type": "code",
   "execution_count": 16,
   "id": "04aa8a66",
   "metadata": {},
   "outputs": [
    {
     "data": {
      "text/plain": [
       "5000"
      ]
     },
     "execution_count": 16,
     "metadata": {},
     "output_type": "execute_result"
    }
   ],
   "source": [
    "p2.show_cost()"
   ]
  },
  {
   "cell_type": "code",
   "execution_count": null,
   "id": "877e5d91",
   "metadata": {},
   "outputs": [],
   "source": []
  }
 ],
 "metadata": {
  "kernelspec": {
   "display_name": "Python 3 (ipykernel)",
   "language": "python",
   "name": "python3"
  },
  "language_info": {
   "codemirror_mode": {
    "name": "ipython",
    "version": 3
   },
   "file_extension": ".py",
   "mimetype": "text/x-python",
   "name": "python",
   "nbconvert_exporter": "python",
   "pygments_lexer": "ipython3",
   "version": "3.9.13"
  }
 },
 "nbformat": 4,
 "nbformat_minor": 5
}
