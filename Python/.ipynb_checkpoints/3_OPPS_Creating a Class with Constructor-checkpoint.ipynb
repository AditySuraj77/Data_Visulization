{
 "cells": [
  {
   "cell_type": "code",
   "execution_count": 4,
   "id": "96ed93bb",
   "metadata": {},
   "outputs": [],
   "source": [
    "class Employee:\n",
    "    def __init__(self, name, age, gender, sallery):\n",
    "        self.name = name\n",
    "        self.age = age\n",
    "        self.gender = gender\n",
    "        self.sallery = sallery\n",
    "        \n",
    "    def show_details(self):\n",
    "        print('The Employee name is', self.name)\n",
    "        print('The Employee age is', self.age)\n",
    "        print('The Employee gender is', self.gender)\n",
    "        print('The Employee sallery is', self.sallery)\n",
    "    "
   ]
  },
  {
   "cell_type": "code",
   "execution_count": 5,
   "id": "4b3766c0",
   "metadata": {},
   "outputs": [],
   "source": [
    "e1 = Employee('Dhruv', 24, 'Male', 9000)"
   ]
  },
  {
   "cell_type": "code",
   "execution_count": 6,
   "id": "5d2fdd33",
   "metadata": {},
   "outputs": [
    {
     "name": "stdout",
     "output_type": "stream",
     "text": [
      "The Employee name is Dhruv\n",
      "The Employee age is 24\n",
      "The Employee gender is Male\n",
      "The Employee sallery is 9000\n"
     ]
    }
   ],
   "source": [
    "e1.show_details()"
   ]
  },
  {
   "cell_type": "code",
   "execution_count": null,
   "id": "fed6ff00",
   "metadata": {},
   "outputs": [],
   "source": []
  }
 ],
 "metadata": {
  "kernelspec": {
   "display_name": "Python 3 (ipykernel)",
   "language": "python",
   "name": "python3"
  },
  "language_info": {
   "codemirror_mode": {
    "name": "ipython",
    "version": 3
   },
   "file_extension": ".py",
   "mimetype": "text/x-python",
   "name": "python",
   "nbconvert_exporter": "python",
   "pygments_lexer": "ipython3",
   "version": "3.9.13"
  }
 },
 "nbformat": 4,
 "nbformat_minor": 5
}
