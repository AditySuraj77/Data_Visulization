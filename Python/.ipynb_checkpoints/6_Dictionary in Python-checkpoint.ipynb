{
 "cells": [
  {
   "cell_type": "code",
   "execution_count": 6,
   "id": "793f9cb1",
   "metadata": {},
   "outputs": [],
   "source": [
    "fruit = {\n",
    "         'Mango': 50,\n",
    "         'Banana': 40,\n",
    "         'Apple': 60,\n",
    "         'Orange' : 90,}"
   ]
  },
  {
   "cell_type": "code",
   "execution_count": 7,
   "id": "4a026037",
   "metadata": {},
   "outputs": [
    {
     "data": {
      "text/plain": [
       "{'Mango': 50, 'Banana': 40, 'Apple': 60, 'Orange': 90}"
      ]
     },
     "execution_count": 7,
     "metadata": {},
     "output_type": "execute_result"
    }
   ],
   "source": [
    "fruit"
   ]
  },
  {
   "cell_type": "markdown",
   "id": "cdbac1cc",
   "metadata": {},
   "source": [
    "## Extracting values and key in dict"
   ]
  },
  {
   "cell_type": "code",
   "execution_count": 10,
   "id": "5c78b95e",
   "metadata": {},
   "outputs": [
    {
     "data": {
      "text/plain": [
       "dict_keys(['Mango', 'Banana', 'Apple', 'Orange'])"
      ]
     },
     "execution_count": 10,
     "metadata": {},
     "output_type": "execute_result"
    }
   ],
   "source": [
    "fruit.keys()"
   ]
  },
  {
   "cell_type": "code",
   "execution_count": 11,
   "id": "cd3de797",
   "metadata": {},
   "outputs": [
    {
     "data": {
      "text/plain": [
       "dict_values([50, 40, 60, 90])"
      ]
     },
     "execution_count": 11,
     "metadata": {},
     "output_type": "execute_result"
    }
   ],
   "source": [
    "fruit.values()"
   ]
  },
  {
   "cell_type": "markdown",
   "id": "9ea8fd45",
   "metadata": {},
   "source": [
    "## Modify the Dict"
   ]
  },
  {
   "cell_type": "code",
   "execution_count": 12,
   "id": "28d1130e",
   "metadata": {},
   "outputs": [],
   "source": [
    "fruit['PineApple'] = 110"
   ]
  },
  {
   "cell_type": "code",
   "execution_count": 13,
   "id": "0f476120",
   "metadata": {},
   "outputs": [
    {
     "data": {
      "text/plain": [
       "{'Mango': 50, 'Banana': 40, 'Apple': 60, 'Orange': 90, 'PineApple': 110}"
      ]
     },
     "execution_count": 13,
     "metadata": {},
     "output_type": "execute_result"
    }
   ],
   "source": [
    "fruit"
   ]
  },
  {
   "cell_type": "code",
   "execution_count": 14,
   "id": "73b0818c",
   "metadata": {},
   "outputs": [],
   "source": [
    "fruit['Banana'] = 25"
   ]
  },
  {
   "cell_type": "code",
   "execution_count": 15,
   "id": "b52788b4",
   "metadata": {},
   "outputs": [
    {
     "data": {
      "text/plain": [
       "{'Mango': 50, 'Banana': 25, 'Apple': 60, 'Orange': 90, 'PineApple': 110}"
      ]
     },
     "execution_count": 15,
     "metadata": {},
     "output_type": "execute_result"
    }
   ],
   "source": [
    "fruit"
   ]
  },
  {
   "cell_type": "markdown",
   "id": "b7e4fe60",
   "metadata": {},
   "source": [
    "## Dictionary Function"
   ]
  },
  {
   "cell_type": "code",
   "execution_count": 19,
   "id": "7b20c075",
   "metadata": {},
   "outputs": [],
   "source": [
    "fr = {'Milk':'Dairy',\n",
    "      'Curd':'Dairy'}"
   ]
  },
  {
   "cell_type": "code",
   "execution_count": 20,
   "id": "ad27ee33",
   "metadata": {},
   "outputs": [],
   "source": [
    "fr2 = {'Cheese':'Dairy',\n",
    "       'Butter':'Dairy'}"
   ]
  },
  {
   "cell_type": "code",
   "execution_count": 21,
   "id": "eb24336b",
   "metadata": {},
   "outputs": [],
   "source": [
    "fr.update(fr2)"
   ]
  },
  {
   "cell_type": "code",
   "execution_count": 22,
   "id": "32431924",
   "metadata": {},
   "outputs": [
    {
     "data": {
      "text/plain": [
       "{'Milk': 'Dairy', 'Curd': 'Dairy', 'Cheese': 'Dairy', 'Butter': 'Dairy'}"
      ]
     },
     "execution_count": 22,
     "metadata": {},
     "output_type": "execute_result"
    }
   ],
   "source": [
    "fr"
   ]
  },
  {
   "cell_type": "code",
   "execution_count": 23,
   "id": "0e649653",
   "metadata": {},
   "outputs": [],
   "source": [
    "fruit = {\n",
    "         'Mango': 50,\n",
    "         'Banana': 40,\n",
    "         'Apple': 60,\n",
    "         'Orange' : 90,}"
   ]
  },
  {
   "cell_type": "code",
   "execution_count": 24,
   "id": "86e15033",
   "metadata": {},
   "outputs": [
    {
     "data": {
      "text/plain": [
       "90"
      ]
     },
     "execution_count": 24,
     "metadata": {},
     "output_type": "execute_result"
    }
   ],
   "source": [
    "fruit.pop('Orange')"
   ]
  },
  {
   "cell_type": "code",
   "execution_count": 25,
   "id": "e4d5ec3b",
   "metadata": {},
   "outputs": [
    {
     "data": {
      "text/plain": [
       "{'Mango': 50, 'Banana': 40, 'Apple': 60}"
      ]
     },
     "execution_count": 25,
     "metadata": {},
     "output_type": "execute_result"
    }
   ],
   "source": [
    "fruit"
   ]
  },
  {
   "cell_type": "code",
   "execution_count": null,
   "id": "30bc09da",
   "metadata": {},
   "outputs": [],
   "source": []
  }
 ],
 "metadata": {
  "kernelspec": {
   "display_name": "Python 3 (ipykernel)",
   "language": "python",
   "name": "python3"
  },
  "language_info": {
   "codemirror_mode": {
    "name": "ipython",
    "version": 3
   },
   "file_extension": ".py",
   "mimetype": "text/x-python",
   "name": "python",
   "nbconvert_exporter": "python",
   "pygments_lexer": "ipython3",
   "version": "3.9.13"
  }
 },
 "nbformat": 4,
 "nbformat_minor": 5
}
