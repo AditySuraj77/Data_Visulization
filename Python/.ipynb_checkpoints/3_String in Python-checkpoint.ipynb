{
 "cells": [
  {
   "cell_type": "code",
   "execution_count": 1,
   "id": "8405d54d",
   "metadata": {},
   "outputs": [
    {
     "data": {
      "text/plain": [
       "'Hello'"
      ]
     },
     "execution_count": 1,
     "metadata": {},
     "output_type": "execute_result"
    }
   ],
   "source": [
    "s1 = 'Hello'\n",
    "s1"
   ]
  },
  {
   "cell_type": "code",
   "execution_count": 2,
   "id": "e2873e3d",
   "metadata": {},
   "outputs": [
    {
     "data": {
      "text/plain": [
       "'hello'"
      ]
     },
     "execution_count": 2,
     "metadata": {},
     "output_type": "execute_result"
    }
   ],
   "source": [
    "s1 = \"hello\"\n",
    "s1"
   ]
  },
  {
   "cell_type": "code",
   "execution_count": 5,
   "id": "73a9b18a",
   "metadata": {},
   "outputs": [
    {
     "data": {
      "text/plain": [
       "str"
      ]
     },
     "execution_count": 5,
     "metadata": {},
     "output_type": "execute_result"
    }
   ],
   "source": [
    "s1 = '''Hello'''\n",
    "type(s1)"
   ]
  },
  {
   "cell_type": "markdown",
   "id": "4707c8fc",
   "metadata": {},
   "source": [
    "# Indexing"
   ]
  },
  {
   "cell_type": "code",
   "execution_count": 6,
   "id": "d633300f",
   "metadata": {},
   "outputs": [],
   "source": [
    "s2 = 'Hello i am using python for Data Science'"
   ]
  },
  {
   "cell_type": "code",
   "execution_count": 9,
   "id": "8fddf9f3",
   "metadata": {},
   "outputs": [
    {
     "data": {
      "text/plain": [
       "'u'"
      ]
     },
     "execution_count": 9,
     "metadata": {},
     "output_type": "execute_result"
    }
   ],
   "source": [
    "s2[11]"
   ]
  },
  {
   "cell_type": "code",
   "execution_count": 14,
   "id": "86e77b16",
   "metadata": {},
   "outputs": [
    {
     "data": {
      "text/plain": [
       "'Hello i am using python'"
      ]
     },
     "execution_count": 14,
     "metadata": {},
     "output_type": "execute_result"
    }
   ],
   "source": [
    "s2[0:23]"
   ]
  },
  {
   "cell_type": "code",
   "execution_count": 24,
   "id": "7a68b74f",
   "metadata": {},
   "outputs": [
    {
     "data": {
      "text/plain": [
       "'i'"
      ]
     },
     "execution_count": 24,
     "metadata": {},
     "output_type": "execute_result"
    }
   ],
   "source": [
    "s2[-5]"
   ]
  },
  {
   "cell_type": "markdown",
   "id": "b608d988",
   "metadata": {},
   "source": [
    "# String Function"
   ]
  },
  {
   "cell_type": "code",
   "execution_count": 25,
   "id": "8670483d",
   "metadata": {},
   "outputs": [],
   "source": [
    "s3 = \"India vs Bangladesh Live Score T20 World Cup IND vs BAN: Match 35 T20 World Cup 2022 match Live Cricket Score\""
   ]
  },
  {
   "cell_type": "code",
   "execution_count": 28,
   "id": "600b71a1",
   "metadata": {},
   "outputs": [
    {
     "data": {
      "text/plain": [
       "109"
      ]
     },
     "execution_count": 28,
     "metadata": {},
     "output_type": "execute_result"
    }
   ],
   "source": [
    "len(s3)"
   ]
  },
  {
   "cell_type": "code",
   "execution_count": 29,
   "id": "81e0f06f",
   "metadata": {},
   "outputs": [
    {
     "data": {
      "text/plain": [
       "'INDIA VS BANGLADESH LIVE SCORE T20 WORLD CUP IND VS BAN: MATCH 35 T20 WORLD CUP 2022 MATCH LIVE CRICKET SCORE'"
      ]
     },
     "execution_count": 29,
     "metadata": {},
     "output_type": "execute_result"
    }
   ],
   "source": [
    "s3.upper()"
   ]
  },
  {
   "cell_type": "code",
   "execution_count": 30,
   "id": "7a8ab3f6",
   "metadata": {},
   "outputs": [
    {
     "data": {
      "text/plain": [
       "'india vs bangladesh live score t20 world cup ind vs ban: match 35 t20 world cup 2022 match live cricket score'"
      ]
     },
     "execution_count": 30,
     "metadata": {},
     "output_type": "execute_result"
    }
   ],
   "source": [
    "s3.lower()"
   ]
  },
  {
   "cell_type": "code",
   "execution_count": 31,
   "id": "ae101da0",
   "metadata": {},
   "outputs": [
    {
     "data": {
      "text/plain": [
       "'India vs Bangladesh Live Score T20 World Cup IND vs BANGLADESH: Match 35 T20 World Cup 2022 match Live Cricket Score'"
      ]
     },
     "execution_count": 31,
     "metadata": {},
     "output_type": "execute_result"
    }
   ],
   "source": [
    "s3.replace('BAN', 'BANGLADESH')"
   ]
  },
  {
   "cell_type": "code",
   "execution_count": 32,
   "id": "3e1c2495",
   "metadata": {},
   "outputs": [
    {
     "data": {
      "text/plain": [
       "2"
      ]
     },
     "execution_count": 32,
     "metadata": {},
     "output_type": "execute_result"
    }
   ],
   "source": [
    "s3.count('u')"
   ]
  },
  {
   "cell_type": "code",
   "execution_count": 33,
   "id": "ceaa15ab",
   "metadata": {},
   "outputs": [
    {
     "data": {
      "text/plain": [
       "1"
      ]
     },
     "execution_count": 33,
     "metadata": {},
     "output_type": "execute_result"
    }
   ],
   "source": [
    "s3.count('m')"
   ]
  },
  {
   "cell_type": "code",
   "execution_count": 34,
   "id": "c8c5a3ee",
   "metadata": {},
   "outputs": [
    {
     "data": {
      "text/plain": [
       "5"
      ]
     },
     "execution_count": 34,
     "metadata": {},
     "output_type": "execute_result"
    }
   ],
   "source": [
    "s3.count('a')"
   ]
  },
  {
   "cell_type": "code",
   "execution_count": 35,
   "id": "4c7fcb0d",
   "metadata": {},
   "outputs": [
    {
     "data": {
      "text/plain": [
       "1"
      ]
     },
     "execution_count": 35,
     "metadata": {},
     "output_type": "execute_result"
    }
   ],
   "source": [
    "s3.count('A')"
   ]
  },
  {
   "cell_type": "code",
   "execution_count": 36,
   "id": "a8939945",
   "metadata": {},
   "outputs": [
    {
     "data": {
      "text/plain": [
       "35"
      ]
     },
     "execution_count": 36,
     "metadata": {},
     "output_type": "execute_result"
    }
   ],
   "source": [
    "s3.find('World')"
   ]
  },
  {
   "cell_type": "code",
   "execution_count": 37,
   "id": "46724dc9",
   "metadata": {},
   "outputs": [
    {
     "data": {
      "text/plain": [
       "57"
      ]
     },
     "execution_count": 37,
     "metadata": {},
     "output_type": "execute_result"
    }
   ],
   "source": [
    "s3.find('Match')"
   ]
  },
  {
   "cell_type": "code",
   "execution_count": null,
   "id": "887c07f4",
   "metadata": {},
   "outputs": [],
   "source": []
  },
  {
   "cell_type": "code",
   "execution_count": null,
   "id": "3540af92",
   "metadata": {},
   "outputs": [],
   "source": []
  },
  {
   "cell_type": "code",
   "execution_count": null,
   "id": "414d1be1",
   "metadata": {},
   "outputs": [],
   "source": []
  }
 ],
 "metadata": {
  "kernelspec": {
   "display_name": "Python 3 (ipykernel)",
   "language": "python",
   "name": "python3"
  },
  "language_info": {
   "codemirror_mode": {
    "name": "ipython",
    "version": 3
   },
   "file_extension": ".py",
   "mimetype": "text/x-python",
   "name": "python",
   "nbconvert_exporter": "python",
   "pygments_lexer": "ipython3",
   "version": "3.9.13"
  }
 },
 "nbformat": 4,
 "nbformat_minor": 5
}
