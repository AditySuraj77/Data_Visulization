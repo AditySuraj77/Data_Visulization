{
 "cells": [
  {
   "cell_type": "code",
   "execution_count": 1,
   "id": "ba581da4",
   "metadata": {},
   "outputs": [],
   "source": [
    "a = 20\n",
    "b = 20"
   ]
  },
  {
   "cell_type": "code",
   "execution_count": 3,
   "id": "f1f31b4d",
   "metadata": {},
   "outputs": [
    {
     "name": "stdout",
     "output_type": "stream",
     "text": [
      "a is not greatest\n"
     ]
    }
   ],
   "source": [
    "if a>b:\n",
    "    print('a is greatest')\n",
    "else:\n",
    "    print('a is not greatest')"
   ]
  },
  {
   "cell_type": "code",
   "execution_count": 4,
   "id": "ff0e5695",
   "metadata": {},
   "outputs": [],
   "source": [
    "A = 200\n",
    "B = 300\n",
    "C = 500"
   ]
  },
  {
   "cell_type": "code",
   "execution_count": 6,
   "id": "dfc47aa0",
   "metadata": {},
   "outputs": [
    {
     "name": "stdout",
     "output_type": "stream",
     "text": [
      "C is greater\n"
     ]
    }
   ],
   "source": [
    "if (A>B & A>C):\n",
    "    print('A is greater')\n",
    "elif(B>A & B>C):\n",
    "    print('B is greater')\n",
    "else:\n",
    "    print('C is greater')"
   ]
  },
  {
   "cell_type": "code",
   "execution_count": null,
   "id": "3494a239",
   "metadata": {},
   "outputs": [],
   "source": []
  }
 ],
 "metadata": {
  "kernelspec": {
   "display_name": "Python 3 (ipykernel)",
   "language": "python",
   "name": "python3"
  },
  "language_info": {
   "codemirror_mode": {
    "name": "ipython",
    "version": 3
   },
   "file_extension": ".py",
   "mimetype": "text/x-python",
   "name": "python",
   "nbconvert_exporter": "python",
   "pygments_lexer": "ipython3",
   "version": "3.9.13"
  }
 },
 "nbformat": 4,
 "nbformat_minor": 5
}
