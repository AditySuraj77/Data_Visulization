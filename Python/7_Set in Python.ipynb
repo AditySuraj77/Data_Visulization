{
 "cells": [
  {
   "cell_type": "markdown",
   "id": "51568a7f",
   "metadata": {},
   "source": [
    "## Set not repeated values"
   ]
  },
  {
   "cell_type": "code",
   "execution_count": 2,
   "id": "62e9c12c",
   "metadata": {},
   "outputs": [],
   "source": [
    "s1 = {1,\"Set\",5+4j,56.9,'Hindi'}"
   ]
  },
  {
   "cell_type": "code",
   "execution_count": 4,
   "id": "3960a3f0",
   "metadata": {},
   "outputs": [
    {
     "data": {
      "text/plain": [
       "set"
      ]
     },
     "execution_count": 4,
     "metadata": {},
     "output_type": "execute_result"
    }
   ],
   "source": [
    "type(s1)"
   ]
  },
  {
   "cell_type": "markdown",
   "id": "233030a9",
   "metadata": {},
   "source": [
    "## Set Operations"
   ]
  },
  {
   "cell_type": "code",
   "execution_count": 5,
   "id": "f16fdde2",
   "metadata": {},
   "outputs": [],
   "source": [
    "s1.add('English')"
   ]
  },
  {
   "cell_type": "code",
   "execution_count": 6,
   "id": "fd2b224a",
   "metadata": {},
   "outputs": [
    {
     "data": {
      "text/plain": [
       "{(5+4j), 1, 56.9, 'English', 'Hindi', 'Set'}"
      ]
     },
     "execution_count": 6,
     "metadata": {},
     "output_type": "execute_result"
    }
   ],
   "source": [
    "s1"
   ]
  },
  {
   "cell_type": "code",
   "execution_count": 7,
   "id": "5fbfbd08",
   "metadata": {},
   "outputs": [],
   "source": [
    "s1.update([10,200,500,])\n"
   ]
  },
  {
   "cell_type": "code",
   "execution_count": 8,
   "id": "ca108c05",
   "metadata": {},
   "outputs": [
    {
     "data": {
      "text/plain": [
       "{(5+4j), 1, 10, 200, 500, 56.9, 'English', 'Hindi', 'Set'}"
      ]
     },
     "execution_count": 8,
     "metadata": {},
     "output_type": "execute_result"
    }
   ],
   "source": [
    "s1"
   ]
  },
  {
   "cell_type": "code",
   "execution_count": 9,
   "id": "992ba42f",
   "metadata": {},
   "outputs": [],
   "source": [
    "s1.remove(56.9)"
   ]
  },
  {
   "cell_type": "code",
   "execution_count": 10,
   "id": "76470ca5",
   "metadata": {},
   "outputs": [
    {
     "data": {
      "text/plain": [
       "{(5+4j), 1, 10, 200, 500, 'English', 'Hindi', 'Set'}"
      ]
     },
     "execution_count": 10,
     "metadata": {},
     "output_type": "execute_result"
    }
   ],
   "source": [
    "s1"
   ]
  },
  {
   "cell_type": "code",
   "execution_count": 17,
   "id": "21309659",
   "metadata": {},
   "outputs": [],
   "source": [
    "s1 = {3,6,9,12,15}\n",
    "s2 = {'a','b','c','d'}"
   ]
  },
  {
   "cell_type": "code",
   "execution_count": 18,
   "id": "6e04726e",
   "metadata": {},
   "outputs": [
    {
     "data": {
      "text/plain": [
       "{12, 15, 3, 6, 9, 'a', 'b', 'c', 'd'}"
      ]
     },
     "execution_count": 18,
     "metadata": {},
     "output_type": "execute_result"
    }
   ],
   "source": [
    "s1.union(s2)"
   ]
  },
  {
   "cell_type": "code",
   "execution_count": 21,
   "id": "91670061",
   "metadata": {},
   "outputs": [],
   "source": [
    "sf = {2,4,56,8,6,4,4,3,3,5,6,678}\n",
    "s2 = {2,5,7,8,8,6,43,36,53,234}"
   ]
  },
  {
   "cell_type": "code",
   "execution_count": 22,
   "id": "feab341e",
   "metadata": {},
   "outputs": [
    {
     "data": {
      "text/plain": [
       "{2, 5, 6, 8}"
      ]
     },
     "execution_count": 22,
     "metadata": {},
     "output_type": "execute_result"
    }
   ],
   "source": [
    "sf.intersection(s2)"
   ]
  },
  {
   "cell_type": "code",
   "execution_count": null,
   "id": "476655dd",
   "metadata": {},
   "outputs": [],
   "source": []
  }
 ],
 "metadata": {
  "kernelspec": {
   "display_name": "Python 3 (ipykernel)",
   "language": "python",
   "name": "python3"
  },
  "language_info": {
   "codemirror_mode": {
    "name": "ipython",
    "version": 3
   },
   "file_extension": ".py",
   "mimetype": "text/x-python",
   "name": "python",
   "nbconvert_exporter": "python",
   "pygments_lexer": "ipython3",
   "version": "3.9.13"
  }
 },
 "nbformat": 4,
 "nbformat_minor": 5
}
