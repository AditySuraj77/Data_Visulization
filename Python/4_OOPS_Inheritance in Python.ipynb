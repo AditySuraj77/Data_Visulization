{
 "cells": [
  {
   "cell_type": "code",
   "execution_count": 5,
   "id": "2c53dcf7",
   "metadata": {},
   "outputs": [],
   "source": [
    "class Vechile:\n",
    "    def __init__(self, mielage, cost):\n",
    "        self.mielage= mielage\n",
    "        self.cost = cost\n",
    "        \n",
    "    def show_detail(self):\n",
    "        print(\"I am Vechile\")\n",
    "        print(\"Mielage is \", self.mielage)\n",
    "        print(\"Cost is\", self.cost)"
   ]
  },
  {
   "cell_type": "code",
   "execution_count": 6,
   "id": "4924d8a0",
   "metadata": {},
   "outputs": [],
   "source": [
    "v1 = Vechile(200, 40000)"
   ]
  },
  {
   "cell_type": "code",
   "execution_count": 7,
   "id": "f304e802",
   "metadata": {},
   "outputs": [
    {
     "name": "stdout",
     "output_type": "stream",
     "text": [
      "I am Vechile\n",
      "Mielage is  200\n",
      "Cost is 40000\n"
     ]
    }
   ],
   "source": [
    "v1.show_detail()"
   ]
  },
  {
   "cell_type": "code",
   "execution_count": 13,
   "id": "a0da8b9f",
   "metadata": {},
   "outputs": [],
   "source": [
    "class Car(Vechile):\n",
    "    def __init__(self,mielage, cost, tyres, hp):\n",
    "     super().__init__(mielage, cost)\n",
    "     self.tyres = tyres\n",
    "     self.hp = hp\n",
    "    \n",
    "    def show_cars_detail(self):\n",
    "        print('I am Car')\n",
    "        print('Tyres no is', self.tyres)\n",
    "        print('Horsepower is', self.hp)\n",
    "        \n"
   ]
  },
  {
   "cell_type": "code",
   "execution_count": 15,
   "id": "37e0d46d",
   "metadata": {},
   "outputs": [],
   "source": [
    "c1 = Car(300, 5000, 8, 200)"
   ]
  },
  {
   "cell_type": "code",
   "execution_count": 16,
   "id": "137aa376",
   "metadata": {},
   "outputs": [
    {
     "name": "stdout",
     "output_type": "stream",
     "text": [
      "I am Vechile\n",
      "Mielage is  300\n",
      "Cost is 5000\n"
     ]
    }
   ],
   "source": [
    "c1.show_detail()"
   ]
  },
  {
   "cell_type": "code",
   "execution_count": 17,
   "id": "d5ea2b86",
   "metadata": {},
   "outputs": [
    {
     "name": "stdout",
     "output_type": "stream",
     "text": [
      "I am Car\n",
      "Tyres no is 8\n",
      "Horsepower is 200\n"
     ]
    }
   ],
   "source": [
    "c1.show_cars_detail()"
   ]
  },
  {
   "cell_type": "markdown",
   "id": "d754f3f8",
   "metadata": {},
   "source": [
    "## Multiple Inheritance"
   ]
  },
  {
   "cell_type": "code",
   "execution_count": 53,
   "id": "d2bea06e",
   "metadata": {},
   "outputs": [],
   "source": [
    "class Parent1:\n",
    "    def __init__(self,name, age):\n",
    "        self.name = name\n",
    "        self.age = age\n",
    "        \n",
    "    def show_par1(self):\n",
    "        print('The name is', self.name)\n",
    "        print('The age is', self.age)"
   ]
  },
  {
   "cell_type": "code",
   "execution_count": 54,
   "id": "294797c5",
   "metadata": {},
   "outputs": [],
   "source": [
    "p1 = Parent1(\"hello\",55)"
   ]
  },
  {
   "cell_type": "code",
   "execution_count": 55,
   "id": "304cbc57",
   "metadata": {},
   "outputs": [
    {
     "name": "stdout",
     "output_type": "stream",
     "text": [
      "The name is hello\n",
      "The age is 55\n"
     ]
    }
   ],
   "source": [
    "p1.show_par1()"
   ]
  },
  {
   "cell_type": "code",
   "execution_count": null,
   "id": "83dc8d6c",
   "metadata": {},
   "outputs": [],
   "source": []
  }
 ],
 "metadata": {
  "kernelspec": {
   "display_name": "Python 3 (ipykernel)",
   "language": "python",
   "name": "python3"
  },
  "language_info": {
   "codemirror_mode": {
    "name": "ipython",
    "version": 3
   },
   "file_extension": ".py",
   "mimetype": "text/x-python",
   "name": "python",
   "nbconvert_exporter": "python",
   "pygments_lexer": "ipython3",
   "version": "3.9.13"
  }
 },
 "nbformat": 4,
 "nbformat_minor": 5
}
